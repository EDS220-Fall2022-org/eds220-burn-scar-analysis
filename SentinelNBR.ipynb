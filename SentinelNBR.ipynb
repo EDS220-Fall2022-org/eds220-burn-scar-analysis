{
 "cells": [
  {
   "cell_type": "markdown",
   "id": "e46ce3de-833e-4c15-b8df-ed31eee6e218",
   "metadata": {},
   "source": [
    "https://code.earthengine.google.com/b455ba8cf4b5bee822bb7ff8935e6209"
   ]
  },
  {
   "cell_type": "markdown",
   "id": "8a9592ad-189f-4b20-9627-ac28436bc187",
   "metadata": {},
   "source": [
    "# Making True and False Color Images with Landsat data using Google Earth Engine\n",
    "In this Jupyter Notebook, we first visualize true color images of the August Complex fire before and after it burned using a dataset from USGS with boundaries of wildfires. Then, the Normalized Burn Ratio (NBR) is used to analyze burn severity. To compare these two images, we will compute the Normalized Difference to show where burn severity most significantly affected the vegetation and soil.\n",
    "\n",
    "BRIEF WALKTHROUGH OF WHAT WE DID"
   ]
  },
  {
   "cell_type": "markdown",
   "id": "61fc91ac-4839-4b7a-b66a-0909f49d8d01",
   "metadata": {},
   "source": [
    "### Authors\n",
    "- Guillermo Romero, Bren School of Environmental Science & Management, UCSB (romero61@ucsb.edu)\n",
    "- Wade Sedgewick, Bren School of Environmental Science & Management, UCSB (wsedgwick@ucsb.edu)\n",
    "- Hailey Veirs, Bren School of Environmental Science & Management, UCSB (hveirs@ucsb.edu)"
   ]
  },
  {
   "cell_type": "markdown",
   "id": "5c88a584-6377-4d3d-9e6b-565a703e29f8",
   "metadata": {},
   "source": [
    "### Table of Contents\n",
    "\n",
    "1. [Purpose](#Purpose)\n",
    "2. [Dataset Description](#Dataset_Description)\n",
    "3. [Data I/O](#Data_I/O)\n",
    "4. [Metadata Display](#Metadata_Display)\n",
    "5. [True Color Visualization](#True_Color_Visualization)\n",
    "6. [False Color Visualizations](#False_Color_Visualizations)\n",
    "7. [Use Case Examples](#Use_Case_Examples)\n",
    "8. [References](#References)"
   ]
  },
  {
   "cell_type": "markdown",
   "id": "95500ce9-18cb-473c-9ab7-1dcec8a858ae",
   "metadata": {},
   "source": [
    "<a id='Purpose'></a>\n",
    "### Notebook Purpose\n",
    "Wildfires in California are becoming increasingly straining on the environment as well as the millions of people living in the state. As the world struggles to deal with climate change and droughts in the West, this issue must be addressed if California wants to avoid spending hundreds of millions of dollars on fire containment. To begin to understand how detrimental these wildfires can be, this notebook will analyze the burn areas of the August Complex fire that occurred from August 16th to November 12th 2020. An analysis will be shown of the Normalized Difference Burn Ratio (NDBR) as well as the rate at which the burn scars retreated and vegetation grew back. Sentinel 2 will be used to conduct this analysis.\n",
    "\n",
    "Given this fire was just over 2 years ago, there has not been sufficient understanding into the before-after burn severity. The NDBR reveals where the fire experienced the most damage to the land and vegetation. This wildfire burned for a longer period of time than most other California wildfires, and as this happens more frequently with climate change, it is necessary to be informed on how severe fires will be in the future. \n",
    "\n",
    "We plan to analyze the August Complex Fire that burned in Northern California. This fire was the largest in California history, partially caused by a drought that started in the summer of 2020. It started from multiple lightning strikes that resulted in 13 separate fires that started on August 17th, 2020. Over the following week they quickly joined to form the August Fire, which lasted just under three months."
   ]
  },
  {
   "cell_type": "markdown",
   "id": "93861be8-cf83-471f-a83a-6749e1d2debd",
   "metadata": {},
   "source": [
    "<a id='Dataset_Description'></a>\n",
    "### Dataset Description\n",
    "**Sentinel 2**\n",
    "\n",
    "The dataset we will be using is the Sentinel 2 which was collected and organized by the Copernicus program, Europe’s Earth observation program. Sentinel 2 uses 2 separate satellites for increased temporal resolution. These satellites focus on terrestrial monitoring, whereas Sentinel 1 aims at capturing imagery of both marine and terrestrial areas. These satellites focus on monitoring coasts, vegetation and soil.\n",
    "\n",
    "The dataset we will be using is the Landsat 8 collection 2 which was collected through a partnership between USGS and NASA. The collection 2 data has been upgraded from the collection 1 data; the most significant improvements are better geometric accuracy, which was achieved by working with the European Space Agency to improve ground control points (GCPs). The other significant improvement to the collection 2 data was improved elevation accuracy by using several localized digital elevation models. \n"
   ]
  },
  {
   "cell_type": "markdown",
   "id": "5a546bb5-b6c0-45da-aca9-a02f61f78182",
   "metadata": {},
   "source": [
    "**Resolution & File Format**\n",
    "\n",
    "The Sentinel 2 satellites collect 13 separate bands. Sentinel 2A was launched June, 2015 and Sentinel 2B was launched March, 2017. Sentinel 1A was the first Sentinel satellite to launch in April, 2014, while Sentinel 2B, which has since been decommissioned, was launched April, 2016. The Sentinel 2 comprises of two satellites that rotate the earth every 10 days, allowing an entire cycle to be completed in only five days. This increased temporal resolution is more than three times higher than Landsat 8. This is due to the focus on land and near-shore monitoring. The Sentinel satellites collect 13 separate bands: the visible bands have a resolution of 10 meters, five 20 meter and one 10 meter Visible and Near Infrared bands, two 60 meter and two 20 meter Shortwave Infrared bands, and one 60 meter Ultra Blue band (for coastal sediment and aerosols)."
   ]
  },
  {
   "cell_type": "markdown",
   "id": "5c2f868d-dfd4-45c8-9d55-fb85256b7ba1",
   "metadata": {},
   "source": [
    "**File Format & Data Retrieval**\n",
    "\n",
    "The data format for Sentinel 2 are ImageCollections, which are a collection of all images as individual bands taken by Sentinel 2A and 2B over their lifetimes. For our analysis, we used Google Earth Engine."
   ]
  },
  {
   "cell_type": "markdown",
   "id": "8e9363c2-3667-45f0-b7e6-047810cb8db8",
   "metadata": {},
   "source": [
    "**Limitations** \n",
    "\n",
    "The Sentinel 2 has been in orbit for five and seven years, providing highly temporal and decently spatial resolution. However, there are some limitations in using the data. The most prominent is cloud coverage, which affects how much of the earth a satellite can record. Although trends can show where cloud coverage might be more difficult to work around, the randomness and frequency of clouds interfering with imagery collection can mean that researchers do not have access to satellite imagery at a certain date. Additionally, although 10 meters is an improvement to the 30-meter Landsat visible bands, this is still not at a resolution for spatially detailed analysis such as individual tree identification. "
   ]
  },
  {
   "cell_type": "markdown",
   "id": "6223b439-e7dd-415e-b661-beb151aa6263",
   "metadata": {},
   "source": [
    "#### Dataset Description: MTBS Polygon Data\n",
    "\n",
    "We will also use the US Forest Service's Monitoring Trends in Burned Severity shapefiles to do our dNBR analysis with the Sentinel data. The file is a polygon file with several other saved variables such as the acerage of burned area, latitude longitude, ignition date, and dNBR values over certain thresholds. For this notebook, we will be using the polygon geometry to help subset our Sentinel data to the burned area, and we will compare our manual dNBR calculation with this dataset's dNBR calculation for the fire area. "
   ]
  },
  {
   "cell_type": "markdown",
   "id": "7fc08aba-a465-41f6-9bbe-24a661f8e322",
   "metadata": {},
   "source": [
    "<a id='Data_I/O'></a>\n",
    "### Data Input/Output"
   ]
  },
  {
   "cell_type": "markdown",
   "id": "f255021b-e38c-48d3-97bc-68a98dc33f05",
   "metadata": {},
   "source": [
    "Import packages"
   ]
  },
  {
   "cell_type": "code",
   "execution_count": 5,
   "id": "5a45b77e-6fa2-4a63-b164-2e91499b62a5",
   "metadata": {},
   "outputs": [],
   "source": [
    "#1) Import all necessary packages\n",
    "import pandas as pd\n",
    "import numpy as np\n",
    "import matplotlib.pyplot as plt\n",
    "import datetime\n",
    "import ee\n",
    "import geemap"
   ]
  },
  {
   "cell_type": "code",
   "execution_count": 7,
   "id": "aa36bf6e-b4f1-4ef5-96d4-2cdae46d2712",
   "metadata": {},
   "outputs": [],
   "source": [
    "#ee.Authenticate()\n",
    "ee.Initialize()"
   ]
  },
  {
   "cell_type": "code",
   "execution_count": 8,
   "id": "e421f06c-5890-48e3-91aa-a4c509522ee9",
   "metadata": {},
   "outputs": [
    {
     "data": {
      "application/vnd.jupyter.widget-view+json": {
       "model_id": "25f1fb4908504cd9b6501aaf1b5d6310",
       "version_major": 2,
       "version_minor": 0
      },
      "text/plain": [
       "Map(center=[39.9, -122.9], controls=(WidgetControl(options=['position', 'transparent_bg'], widget=HBox(childre…"
      ]
     },
     "execution_count": 8,
     "metadata": {},
     "output_type": "execute_result"
    }
   ],
   "source": [
    "Map = geemap.Map(center=[39.9, -122.9], zoom=8.7)\n",
    "Map"
   ]
  },
  {
   "cell_type": "markdown",
   "id": "f68718f0-8022-4973-8a87-d047cfb31a1c",
   "metadata": {},
   "source": [
    "Loading Monitoring Trends in Burn Severity (MTBS) Dataset\n",
    "To load only the burned area of the fire, MTBS boundaries are loaded in, the August Complex fire is selected, and the other boundaries are removed"
   ]
  },
  {
   "cell_type": "code",
   "execution_count": 9,
   "id": "b6b3adcc-6fdc-426e-b71b-257d156cc9da",
   "metadata": {},
   "outputs": [],
   "source": [
    "MTBS = ee.FeatureCollection(\"USFS/GTAC/MTBS/burned_area_boundaries/v1\")\n",
    "Map.addLayer(MTBS, {}, 'Boundaries')"
   ]
  },
  {
   "cell_type": "code",
   "execution_count": 10,
   "id": "30772be4-bf22-4d0c-a253-86ddf4733e09",
   "metadata": {
    "tags": []
   },
   "outputs": [],
   "source": [
    "aug_complex = MTBS.filter(ee.Filter.eq('Incid_Name', 'AUGUST COMPLEX'));"
   ]
  },
  {
   "cell_type": "code",
   "execution_count": 11,
   "id": "05e051a6-5d91-4e69-b85c-1a420bbe67e9",
   "metadata": {},
   "outputs": [],
   "source": [
    "Map.addLayer(aug_complex, {}, \"August Complex Boundary\")\n",
    "#Map.centerObject(selected_counties, zoom = 9);\n",
    "Map.remove_ee_layer('Boundaries')"
   ]
  },
  {
   "cell_type": "markdown",
   "id": "c5d8fd17-2930-4fab-adde-e5ac6f71a29a",
   "metadata": {},
   "source": [
    "<a id='Metadata_Display'></a>\n",
    "### Metadata Display"
   ]
  },
  {
   "cell_type": "code",
   "execution_count": 1,
   "id": "c1bc6f34-bc99-4dd0-b15d-dda2f0fdde3b",
   "metadata": {
    "tags": []
   },
   "outputs": [],
   "source": [
    "#august_complex.getInfo()\n",
    "aug_complex.getInfo()\n",
    "#BurnBndAc\tINT\t Burn boundary acreage  1068802"
   ]
  },
  {
   "cell_type": "code",
   "execution_count": 44,
   "id": "d69d68d5-f887-4d34-9a6e-63d05d41cc53",
   "metadata": {},
   "outputs": [],
   "source": [
    "#counties = ee.FeatureCollection(\"TIGER/2018/Counties\")\n",
    "#Map.addLayer(counties, {}, 'US Counties')"
   ]
  },
  {
   "cell_type": "code",
   "execution_count": 233,
   "id": "32165105-7f99-4866-a95f-086aac4aeea1",
   "metadata": {},
   "outputs": [],
   "source": [
    "##### DRAW POLYGON TO SELECT COUNTIES!!! ####"
   ]
  },
  {
   "cell_type": "code",
   "execution_count": 45,
   "id": "606bc53b-14be-4701-b694-90ce5f44b93a",
   "metadata": {
    "tags": []
   },
   "outputs": [
    {
     "data": {
      "text/plain": [
       "[<ee.feature.Feature at 0x7f5cb1755720>]"
      ]
     },
     "execution_count": 45,
     "metadata": {},
     "output_type": "execute_result"
    }
   ],
   "source": [
    "#Map.draw_features"
   ]
  },
  {
   "cell_type": "code",
   "execution_count": 46,
   "id": "e65856d1-0b7e-4800-94ac-03f28668e5c2",
   "metadata": {
    "tags": []
   },
   "outputs": [],
   "source": [
    "#roi = ee.FeatureCollection(Map.draw_features)\n",
    "#selected_counties = counties.filterBounds(roi)\n",
    "#Map.addLayer(selected_counties, {}, \"Selected Counties\")\n",
    "#Map.centerObject(selected_counties, zoom = 8);"
   ]
  },
  {
   "cell_type": "code",
   "execution_count": 47,
   "id": "b10eabb3-52ee-485e-bfd4-d5dacb306f66",
   "metadata": {
    "tags": []
   },
   "outputs": [],
   "source": [
    "#august_complex = MTBS.filterBounds(roi)\n",
    "#Map.addLayer(august_complex, {}, \"August Complex Boundary\")\n",
    "#Map.centerObject(august_complex, zoom = 8);"
   ]
  },
  {
   "cell_type": "code",
   "execution_count": 48,
   "id": "338b1991-414f-4302-bf00-fbd03ce7303c",
   "metadata": {
    "tags": []
   },
   "outputs": [],
   "source": [
    "#Map.remove_last_drawn()\n",
    "\n",
    "#Map.remove_ee_layer('US Counties')\n",
    "#Map.remove_ee_layer('August Complex Boundary')"
   ]
  },
  {
   "cell_type": "code",
   "execution_count": 283,
   "id": "57014a57-d507-4e6d-87c8-07361c934ad5",
   "metadata": {},
   "outputs": [],
   "source": [
    "#c_polygon = selected_counties.geometry().geometries().filter(ee.Filter.hasType('item','Polygon')); "
   ]
  },
  {
   "cell_type": "code",
   "execution_count": 284,
   "id": "8baa7419-167c-4e18-9d01-e97fe9686b08",
   "metadata": {},
   "outputs": [],
   "source": [
    "#geometry = ee.Geometry.MultiPolygon(c_polygon)                     \n",
    "#geometry = ee.FeatureCollection(geometry)                                  \n"
   ]
  },
  {
   "cell_type": "code",
   "execution_count": 285,
   "id": "539cfdf6-a1dc-41bc-a40e-5f06f7adcb33",
   "metadata": {},
   "outputs": [],
   "source": [
    "#geemap.ee_to_shp(geometry, filename='../downloads/selected_counties.shp')"
   ]
  },
  {
   "cell_type": "markdown",
   "id": "6377aa7d-a2b3-4fa1-b326-cc2b2a14c16f",
   "metadata": {},
   "source": [
    "<a id='True_Color_Visualization'></a>\n",
    "### True Color Visualization\n",
    "\n",
    "Create pre-fire and post-fire timeframes to filter to before and after the August Complex fire"
   ]
  },
  {
   "cell_type": "code",
   "execution_count": 10,
   "id": "3cc1205a-7b96-47b1-b91f-39e865c8b7c8",
   "metadata": {},
   "outputs": [],
   "source": [
    "# Start of fire August 16\n",
    "#End of fire November 12\n",
    "prefire_start = '2020-07-15';   \n",
    "prefire_end = '2020-07-30';\n",
    "\n",
    "\n",
    "postfire_start = '2020-11-13';\n",
    "postfire_end = '2020-11-30';\n",
    "imagery = ee.ImageCollection('COPERNICUS/S2')\n",
    "\n",
    "prefireImCol = ee.ImageCollection(imagery.filterDate(prefire_start, prefire_end).filterBounds(aug_complex));\n",
    "postfireImCol = ee.ImageCollection(imagery.filterDate(postfire_start, postfire_end).filterBounds(aug_complex));"
   ]
  },
  {
   "cell_type": "code",
   "execution_count": 11,
   "id": "859dd7f4-d5f6-47c3-920b-50f62b933966",
   "metadata": {},
   "outputs": [],
   "source": [
    "# Function to mask clouds from the pixel quality band of Sentinel-2 SR data.\n",
    "def  maskS2sr(image):\n",
    "  # Bits 10 and 11 are clouds and cirrus, respectively.\n",
    "    cloudBitMask = ee.Number(2).pow(10).int();\n",
    "    cirrusBitMask = ee.Number(2).pow(11).int();\n",
    "  #Get the pixel QA band.\n",
    "    qa = image.select('QA60');\n",
    "  #All flags should be set to zero, indicating clear conditions.\n",
    "    mask = qa.bitwiseAnd(cloudBitMask).eq(0).bitwiseAnd(cirrusBitMask).eq(0);\n",
    "  #Return the masked image, scaled to TOA reflectance, without the QA bands.\n",
    "    return image.updateMask(mask).copyProperties(image, [\"system:time_start\"]);\n"
   ]
  },
  {
   "cell_type": "markdown",
   "id": "701daa24-5786-47bf-acbb-15cdb152f056",
   "metadata": {},
   "source": [
    "Preparing pre-fire and post-fire Normalized Burn Ratio (NBR) images "
   ]
  },
  {
   "cell_type": "code",
   "execution_count": 12,
   "id": "780ad8cd-2938-4a84-b3ec-739dee0500e2",
   "metadata": {},
   "outputs": [],
   "source": [
    "# Apply platform-specific cloud mask\n",
    "prefire_CM_ImCol = prefireImCol.map(maskS2sr);\n",
    "postfire_CM_ImCol = postfireImCol.map(maskS2sr);"
   ]
  },
  {
   "cell_type": "code",
   "execution_count": 13,
   "id": "f1671b2a-b015-4079-8991-529072afa402",
   "metadata": {},
   "outputs": [],
   "source": [
    "pre_mos = prefireImCol.mosaic().clip(aug_complex);\n",
    "post_mos = postfireImCol.mosaic().clip(aug_complex);\n",
    "\n",
    "pre_cm_mos = prefire_CM_ImCol.mosaic().clip(aug_complex);\n",
    "post_cm_mos = postfire_CM_ImCol.mosaic().clip(aug_complex);"
   ]
  },
  {
   "cell_type": "code",
   "execution_count": 14,
   "id": "932e52e2-5ef4-4819-935b-01c5bc002463",
   "metadata": {},
   "outputs": [],
   "source": [
    "preNBR = pre_cm_mos.normalizedDifference(['B8', 'B12']);\n",
    "postNBR = post_cm_mos.normalizedDifference(['B8', 'B12']);"
   ]
  },
  {
   "cell_type": "code",
   "execution_count": 15,
   "id": "eee4300c-7dae-4687-bd00-4d1e8db9650f",
   "metadata": {},
   "outputs": [],
   "source": [
    "dNBR_unscaled = preNBR.subtract(postNBR);\n",
    "\n",
    "#Scale product to USGS standards\n",
    "dNBR = dNBR_unscaled.multiply(1000);"
   ]
  },
  {
   "cell_type": "markdown",
   "id": "0bbd2f8b-278d-45c5-842c-a7a9a6a0ebae",
   "metadata": {},
   "source": [
    "Set up parameters for true color images using band 2, 3, and 4 from the Sentinel satellites, and adding non-cloud masked pre-fire and post-fire images and cloud masked pre-fire and post-fire images"
   ]
  },
  {
   "cell_type": "code",
   "execution_count": 16,
   "id": "9aec92a8-a3f7-44ff-9008-53c9ea447a39",
   "metadata": {},
   "outputs": [],
   "source": [
    "#visualization parameters for true color images\n",
    "vis = {'bands': ['B4', 'B3', 'B2'], 'max': 2000, 'gamma': 1.5};\n",
    "# Add the true color images to the map.\n",
    "Map.addLayer(pre_mos, vis,'Pre-fire image');\n",
    "Map.addLayer(post_mos, vis,'Post-fire image');"
   ]
  },
  {
   "cell_type": "code",
   "execution_count": 17,
   "id": "4cda5a5a-e65c-4e0a-b33c-a5305e0c9942",
   "metadata": {},
   "outputs": [],
   "source": [
    "#Add the true color images to the map.\n",
    "Map.addLayer(pre_cm_mos, vis,'Pre-fire True Color Image - Clouds masked');\n",
    "Map.addLayer(post_cm_mos, vis,'Post-fire True Color Image - Clouds masked');"
   ]
  },
  {
   "cell_type": "markdown",
   "id": "fb4506bf-56e0-4ad9-bdd7-a66ab0e78532",
   "metadata": {},
   "source": [
    "<a id='False_Color_Visualizations'></a>\n",
    "### False Color Visualizations\n",
    "Adding the pre-fire and post-fire cloud-masked NBRs in greyscale"
   ]
  },
  {
   "cell_type": "code",
   "execution_count": 18,
   "id": "7b1375b2-310c-498b-85d4-6d49b34d6f65",
   "metadata": {},
   "outputs": [],
   "source": [
    "#Burn Ratio Product - Greyscale\n",
    "grey = ['white', 'black'];\n",
    "#display pre- and post-fire NBR seperately\n",
    "Map.addLayer(preNBR, {'min': -1, 'max': 1, 'palette': grey}, 'Prefire Normalized Burn Ratio');\n",
    "Map.addLayer(postNBR, {'min': -1, 'max': 1, 'palette': grey}, 'Postfire Normalized Burn Ratio');\n",
    "\n",
    "Map.addLayer(dNBR, {'min': -1000, 'max': 1000, 'palette': grey}, 'dNBR greyscale');\n"
   ]
  },
  {
   "cell_type": "markdown",
   "id": "b8fb9b3e-c042-43fa-90b6-fbd597cbcccf",
   "metadata": {},
   "source": [
    "Creating an interactive map of pre-fire and post-fire NBRs"
   ]
  },
  {
   "cell_type": "code",
   "execution_count": 19,
   "id": "f4c89bd7-106c-442b-8c22-4ab44192268b",
   "metadata": {},
   "outputs": [
    {
     "data": {
      "application/vnd.jupyter.widget-view+json": {
       "model_id": "69dcdd8d68e847ff9333903289f79409",
       "version_major": 2,
       "version_minor": 0
      },
      "text/plain": [
       "Map(center=[39.9, -122.9], controls=(ZoomControl(options=['position', 'zoom_in_text', 'zoom_in_title', 'zoom_o…"
      ]
     },
     "execution_count": 19,
     "metadata": {},
     "output_type": "execute_result"
    }
   ],
   "source": [
    "left_layer = geemap.ee_tile_layer(preNBR, {}, 'Prefire Normalized Burn Ratio')\n",
    "right_layer = geemap.ee_tile_layer(postNBR, {}, 'Postfire Normalized Burn Ratio')\n",
    "\n",
    "Map2 =  geemap.Map(center=[39.9, -122.9], zoom=8.7)\n",
    "Map2.split_map(left_layer, right_layer)\n",
    "Map2"
   ]
  },
  {
   "cell_type": "code",
   "execution_count": 20,
   "id": "17179d60-c01a-4ee0-b7a5-10e2970db23f",
   "metadata": {},
   "outputs": [],
   "source": [
    "#Define an SLD style of discrete intervals to apply to the image.\n",
    "sld_intervals = '<RasterSymbolizer>' + '<ColorMap type=\"intervals\" extended=\"false\" >' + '<ColorMapEntry color=\"#ffffff\" quantity=\"-500\" label=\"-500\"/>' + '<ColorMapEntry color=\"#7a8737\" quantity=\"-250\" label=\"-250\" />' + '<ColorMapEntry color=\"#acbe4d\" quantity=\"-100\" label=\"-100\" />' + '<ColorMapEntry color=\"#0ae042\" quantity=\"100\" label=\"100\" />' + '<ColorMapEntry color=\"#fff70b\" quantity=\"270\" label=\"270\" />' + '<ColorMapEntry color=\"#ffaf38\" quantity=\"440\" label=\"440\" />' + '<ColorMapEntry color=\"#ff641b\" quantity=\"660\" label=\"660\" />' + '<ColorMapEntry color=\"#a41fd6\" quantity=\"2000\" label=\"2000\" />' + '</ColorMap>' + '</RasterSymbolizer>';"
   ]
  },
  {
   "cell_type": "code",
   "execution_count": 21,
   "id": "6ee38a93-43d0-4a6e-a84d-dd0bc5795782",
   "metadata": {},
   "outputs": [
    {
     "data": {
      "application/vnd.jupyter.widget-view+json": {
       "model_id": "0c1b9a138f1e4712ba44c93f6c3efd0d",
       "version_major": 2,
       "version_minor": 0
      },
      "text/plain": [
       "Map(center=[39.9, -122.9], controls=(WidgetControl(options=['position', 'transparent_bg'], widget=HBox(childre…"
      ]
     },
     "execution_count": 21,
     "metadata": {},
     "output_type": "execute_result"
    }
   ],
   "source": [
    "Map3 = geemap.Map(center=[39.9, -122.9], zoom=8.7)\n",
    "Map3.add_basemap('SATELLITE')\n",
    "Map3"
   ]
  },
  {
   "cell_type": "markdown",
   "id": "865fcf38-688c-4e2b-9432-045794ea8a4b",
   "metadata": {},
   "source": [
    "Adding Burn Severity map with levels of severity"
   ]
  },
  {
   "cell_type": "code",
   "execution_count": 22,
   "id": "fbd69194-4792-427b-a4f0-d637d68571b1",
   "metadata": {},
   "outputs": [],
   "source": [
    "Map3.addLayer(dNBR.sldStyle(sld_intervals), {}, 'dNBR classified');\n",
    "#==========================================================================================\n",
    "#                                   ADD A LEGEND\n",
    "\n",
    "legend_dict = {\n",
    "    \"Enhanced Regrowth, High\": '7a8737',\n",
    "    'Enhanced Regrowth, Low':  'acbe4d',\n",
    "    'Unburned': '0ae042',\n",
    "    'Low Severity': 'fff70b',\n",
    "    'Moderate-low Severity': 'ffaf38',\n",
    "    'Moderate-high Severity': 'ff641b',\n",
    "    'High Severity': 'a41fd6',\n",
    "    'NA': 'ffffff'}\n",
    "\n",
    "\n",
    "Map3.add_legend(legend_title = \"dNBR Classes\", legend_dict = legend_dict)"
   ]
  },
  {
   "cell_type": "code",
   "execution_count": 207,
   "id": "008a20d3-225e-4eb6-bd83-1bb0b40c6eb2",
   "metadata": {},
   "outputs": [
    {
     "data": {
      "text/plain": [
       "array([[[ -49.05430222],\n",
       "        [ -32.09242249]],\n",
       "\n",
       "       [[-288.54684448],\n",
       "        [ -97.1336441 ]]])"
      ]
     },
     "execution_count": 207,
     "metadata": {},
     "output_type": "execute_result"
    }
   ],
   "source": [
    "#dnbr_img = geemap.ee_to_numpy(dNBR, region = aug_complex)\n",
    "#dnbr_img"
   ]
  },
  {
   "cell_type": "code",
   "execution_count": 23,
   "id": "b9f2b9e7-9c82-4e03-a90c-cabcc6ed83f5",
   "metadata": {
    "tags": []
   },
   "outputs": [],
   "source": [
    "thresholds = ee.Image([-1000, -251, -101, 99, 269, 439, 659, 2000]);\n",
    "classified = dNBR.lt(thresholds).reduce('sum').toInt();"
   ]
  },
  {
   "cell_type": "code",
   "execution_count": 24,
   "id": "9d58e9c5-47c9-40d0-b976-f7d9f44eb0c5",
   "metadata": {
    "tags": []
   },
   "outputs": [],
   "source": [
    "#count number of pixels in entire layer\n",
    "allpix =  classified.updateMask(classified); #mask the entire layer"
   ]
  },
  {
   "cell_type": "code",
   "execution_count": 25,
   "id": "b4a9ae4e-31c0-48e0-848c-853e78d8ca2d",
   "metadata": {
    "tags": []
   },
   "outputs": [],
   "source": [
    "pixstats = allpix.reduceRegion(\n",
    "    reducer = ee.Reducer.count(),               # count pixels in a single class\n",
    "    geometry = aug_complex.geometry(),\n",
    "    scale = 30, \n",
    "    maxPixels = 10000000);"
   ]
  },
  {
   "cell_type": "code",
   "execution_count": 222,
   "id": "a3951a8d-dc1c-4b97-987f-b898c61da385",
   "metadata": {},
   "outputs": [
    {
     "data": {
      "text/plain": [
       "{'max': {'sum': None},\n",
       " 'mean': {'sum': 0.7857142857142857},\n",
       " 'min': {'sum': None},\n",
       " 'std': {'sum': None},\n",
       " 'sum': {'sum': 0.34509803921568627}}"
      ]
     },
     "execution_count": 222,
     "metadata": {},
     "output_type": "execute_result"
    }
   ],
   "source": [
    "#zonal_dnbr = geemap.zonal_statistics(dNBR, aug_complex,  statistics_type='SUM')\n",
    "#dnbr_stats = geemap.image_stats(classified, aug_complex)\n",
    "#dnbr_stats.getInfo()"
   ]
  },
  {
   "cell_type": "code",
   "execution_count": 210,
   "id": "d6726666-bc4c-4049-a872-e5493831465b",
   "metadata": {},
   "outputs": [
    {
     "name": "stdout",
     "output_type": "stream",
     "text": [
      "Image.sampleRectangle: Fully masked pixels / pixels outside of the image footprint when sampling band 'sum' with no default value set. Note that calling sampleRectangle() on an image after ee.Image.clip() may result in a sampling bounding box outside the geometry passed to clip().\n"
     ]
    }
   ],
   "source": [
    "#pixstatsr_img = geemap.ee_to_numpy(allpix, region = aug_complex)\n",
    "#pixstatsr_img"
   ]
  },
  {
   "cell_type": "code",
   "execution_count": 26,
   "id": "7e59c355-e7e5-4a45-8002-818c033da908",
   "metadata": {
    "tags": []
   },
   "outputs": [],
   "source": [
    "allpixels = ee.Number(pixstats.get('sum')); # extract pixel count as a number"
   ]
  },
  {
   "cell_type": "code",
   "execution_count": 27,
   "id": "f8a59d41-9bc9-4246-9e4b-1297ea2859da",
   "metadata": {
    "tags": []
   },
   "outputs": [],
   "source": [
    "#create an empty list to store area values in\n",
    "arealist = [];"
   ]
  },
  {
   "cell_type": "code",
   "execution_count": 28,
   "id": "3c4eb6e4-83f1-45ee-814c-375b619b724d",
   "metadata": {
    "tags": []
   },
   "outputs": [],
   "source": [
    "# create a function to derive extent of one burn severity class\n",
    "#arguments are class number and class name\n",
    "def areacount(cnr, name):\n",
    "    singleMask =  classified.updateMask(classified.eq(cnr)); # mask a single class // count pixels in a single class\n",
    "    stats = singleMask.reduceRegion(reducer = ee.Reducer.count(), geometry = aug_complex.geometry(), scale = 30, \n",
    "    maxPixels = 10000000);\n",
    "    pix =  ee.Number(stats.get('sum'));\n",
    "    hect = pix.multiply(900).divide(10000);               #Landsat pixel = 30m x 30m --> 900 sqm\n",
    "    perc = pix.divide(allpixels).multiply(10000).round().divide(100);   # get area percent by class and round to 2 decimals\n",
    "    arealist.append({'Class': name, 'Pixels': pix, 'Hectares': hect, 'Percentage': perc});\n",
    "\n",
    "# severity classes in different order\n",
    "names2 = ['NA', 'High Severity', 'Moderate-high Severity',\n",
    "'Moderate-low Severity', 'Low Severity','Unburned', 'Enhanced Regrowth, Low', 'Enhanced Regrowth, High'];"
   ]
  },
  {
   "cell_type": "code",
   "execution_count": 30,
   "id": "5bf9e0cc-be65-4d1f-9c99-a5a5de5cc33c",
   "metadata": {},
   "outputs": [],
   "source": [
    "i = 0\n",
    "for i in range(len(names2)):\n",
    "    if i < 8:\n",
    "        areacount(i, names2[i])\n",
    "        i + 1;"
   ]
  },
  {
   "cell_type": "code",
   "execution_count": 31,
   "id": "4a8ac54e-9364-4a51-a98f-1eab3f696019",
   "metadata": {},
   "outputs": [],
   "source": [
    "test = dNBR.id().getInfo()\n",
    "test"
   ]
  },
  {
   "cell_type": "code",
   "execution_count": 2,
   "id": "cc2751da-4555-494e-b6d5-f15f79b91daf",
   "metadata": {},
   "outputs": [
    {
     "ename": "NameError",
     "evalue": "name 'arealist' is not defined",
     "output_type": "error",
     "traceback": [
      "\u001b[0;31m---------------------------------------------------------------------------\u001b[0m",
      "\u001b[0;31mNameError\u001b[0m                                 Traceback (most recent call last)",
      "Input \u001b[0;32mIn [2]\u001b[0m, in \u001b[0;36m<cell line: 1>\u001b[0;34m()\u001b[0m\n\u001b[0;32m----> 1\u001b[0m NA \u001b[38;5;241m=\u001b[39m \u001b[43marealist\u001b[49m[\u001b[38;5;241m0\u001b[39m:\u001b[38;5;241m1\u001b[39m]\u001b[38;5;241m.\u001b[39mpop()\n\u001b[1;32m      3\u001b[0m num \u001b[38;5;241m=\u001b[39m ee\u001b[38;5;241m.\u001b[39mNumber\u001b[38;5;241m.\u001b[39mparse(NA\u001b[38;5;241m.\u001b[39mget(\u001b[38;5;124m'\u001b[39m\u001b[38;5;124mHectares\u001b[39m\u001b[38;5;124m'\u001b[39m))\n",
      "\u001b[0;31mNameError\u001b[0m: name 'arealist' is not defined"
     ]
    }
   ],
   "source": [
    "NA = arealist[0:1].pop()\n",
    "\n",
    "num = ee.Number.parse(NA.get('Hectares'));\n",
    "#print(num)"
   ]
  },
  {
   "cell_type": "code",
   "execution_count": 33,
   "id": "acb6dffe-8c29-42a6-882d-91d91482a4e0",
   "metadata": {},
   "outputs": [
    {
     "data": {
      "text/plain": [
       "<ee.ee_number.Number at 0x7f4985f5a6e0>"
      ]
     },
     "execution_count": 33,
     "metadata": {},
     "output_type": "execute_result"
    }
   ],
   "source": [
    "High_Severity = arealist[0:2].pop()\n",
    "High_Severity['Hectares']"
   ]
  },
  {
   "cell_type": "code",
   "execution_count": 34,
   "id": "8d84f54e-dd3b-4027-92b4-2bcfb7fa8997",
   "metadata": {},
   "outputs": [
    {
     "ename": "NameError",
     "evalue": "name 'Hectares' is not defined",
     "output_type": "error",
     "traceback": [
      "\u001b[0;31m---------------------------------------------------------------------------\u001b[0m",
      "\u001b[0;31mNameError\u001b[0m                                 Traceback (most recent call last)",
      "Input \u001b[0;32mIn [34]\u001b[0m, in \u001b[0;36m<cell line: 2>\u001b[0;34m()\u001b[0m\n\u001b[1;32m      1\u001b[0m plt\u001b[38;5;241m.\u001b[39mfigure()\n\u001b[0;32m----> 2\u001b[0m plt\u001b[38;5;241m.\u001b[39mplot(\u001b[43mHectares\u001b[49m)\n",
      "\u001b[0;31mNameError\u001b[0m: name 'Hectares' is not defined"
     ]
    },
    {
     "data": {
      "text/plain": [
       "<Figure size 640x480 with 0 Axes>"
      ]
     },
     "metadata": {},
     "output_type": "display_data"
    }
   ],
   "source": [
    "plt.figure()\n",
    "plt.plot(Hectares)"
   ]
  },
  {
   "cell_type": "code",
   "execution_count": 35,
   "id": "69b8e33f-abe8-4992-ab28-c5d61d2d3d13",
   "metadata": {},
   "outputs": [
    {
     "ename": "TypeError",
     "evalue": "float() argument must be a string or a real number, not 'dict'",
     "output_type": "error",
     "traceback": [
      "\u001b[0;31m---------------------------------------------------------------------------\u001b[0m",
      "\u001b[0;31mTypeError\u001b[0m                                 Traceback (most recent call last)",
      "Input \u001b[0;32mIn [35]\u001b[0m, in \u001b[0;36m<cell line: 1>\u001b[0;34m()\u001b[0m\n\u001b[0;32m----> 1\u001b[0m \u001b[43mplt\u001b[49m\u001b[38;5;241;43m.\u001b[39;49m\u001b[43mplot\u001b[49m\u001b[43m(\u001b[49m\u001b[43mHigh_Severity\u001b[49m\u001b[43m)\u001b[49m\n",
      "File \u001b[0;32m/opt/python/3.10.5/lib/python3.10/site-packages/matplotlib/pyplot.py:2793\u001b[0m, in \u001b[0;36mplot\u001b[0;34m(scalex, scaley, data, *args, **kwargs)\u001b[0m\n\u001b[1;32m   2791\u001b[0m \u001b[38;5;129m@docstring\u001b[39m\u001b[38;5;241m.\u001b[39mcopy(Axes\u001b[38;5;241m.\u001b[39mplot)\n\u001b[1;32m   2792\u001b[0m \u001b[38;5;28;01mdef\u001b[39;00m \u001b[38;5;21mplot\u001b[39m(\u001b[38;5;241m*\u001b[39margs, scalex\u001b[38;5;241m=\u001b[39m\u001b[38;5;28;01mTrue\u001b[39;00m, scaley\u001b[38;5;241m=\u001b[39m\u001b[38;5;28;01mTrue\u001b[39;00m, data\u001b[38;5;241m=\u001b[39m\u001b[38;5;28;01mNone\u001b[39;00m, \u001b[38;5;241m*\u001b[39m\u001b[38;5;241m*\u001b[39mkwargs):\n\u001b[0;32m-> 2793\u001b[0m     \u001b[38;5;28;01mreturn\u001b[39;00m \u001b[43mgca\u001b[49m\u001b[43m(\u001b[49m\u001b[43m)\u001b[49m\u001b[38;5;241;43m.\u001b[39;49m\u001b[43mplot\u001b[49m\u001b[43m(\u001b[49m\n\u001b[1;32m   2794\u001b[0m \u001b[43m        \u001b[49m\u001b[38;5;241;43m*\u001b[39;49m\u001b[43margs\u001b[49m\u001b[43m,\u001b[49m\u001b[43m \u001b[49m\u001b[43mscalex\u001b[49m\u001b[38;5;241;43m=\u001b[39;49m\u001b[43mscalex\u001b[49m\u001b[43m,\u001b[49m\u001b[43m \u001b[49m\u001b[43mscaley\u001b[49m\u001b[38;5;241;43m=\u001b[39;49m\u001b[43mscaley\u001b[49m\u001b[43m,\u001b[49m\u001b[43m \u001b[49m\u001b[38;5;241;43m*\u001b[39;49m\u001b[38;5;241;43m*\u001b[39;49m\u001b[43m(\u001b[49m\u001b[43m{\u001b[49m\u001b[38;5;124;43m\"\u001b[39;49m\u001b[38;5;124;43mdata\u001b[39;49m\u001b[38;5;124;43m\"\u001b[39;49m\u001b[43m:\u001b[49m\u001b[43m \u001b[49m\u001b[43mdata\u001b[49m\u001b[43m}\u001b[49m\u001b[43m \u001b[49m\u001b[38;5;28;43;01mif\u001b[39;49;00m\u001b[43m \u001b[49m\u001b[43mdata\u001b[49m\n\u001b[1;32m   2795\u001b[0m \u001b[43m        \u001b[49m\u001b[38;5;129;43;01mis\u001b[39;49;00m\u001b[43m \u001b[49m\u001b[38;5;129;43;01mnot\u001b[39;49;00m\u001b[43m \u001b[49m\u001b[38;5;28;43;01mNone\u001b[39;49;00m\u001b[43m \u001b[49m\u001b[38;5;28;43;01melse\u001b[39;49;00m\u001b[43m \u001b[49m\u001b[43m{\u001b[49m\u001b[43m}\u001b[49m\u001b[43m)\u001b[49m\u001b[43m,\u001b[49m\u001b[43m \u001b[49m\u001b[38;5;241;43m*\u001b[39;49m\u001b[38;5;241;43m*\u001b[39;49m\u001b[43mkwargs\u001b[49m\u001b[43m)\u001b[49m\n",
      "File \u001b[0;32m/opt/python/3.10.5/lib/python3.10/site-packages/matplotlib/axes/_axes.py:1668\u001b[0m, in \u001b[0;36mAxes.plot\u001b[0;34m(self, scalex, scaley, data, *args, **kwargs)\u001b[0m\n\u001b[1;32m   1666\u001b[0m lines \u001b[38;5;241m=\u001b[39m [\u001b[38;5;241m*\u001b[39m\u001b[38;5;28mself\u001b[39m\u001b[38;5;241m.\u001b[39m_get_lines(\u001b[38;5;241m*\u001b[39margs, data\u001b[38;5;241m=\u001b[39mdata, \u001b[38;5;241m*\u001b[39m\u001b[38;5;241m*\u001b[39mkwargs)]\n\u001b[1;32m   1667\u001b[0m \u001b[38;5;28;01mfor\u001b[39;00m line \u001b[38;5;129;01min\u001b[39;00m lines:\n\u001b[0;32m-> 1668\u001b[0m     \u001b[38;5;28;43mself\u001b[39;49m\u001b[38;5;241;43m.\u001b[39;49m\u001b[43madd_line\u001b[49m\u001b[43m(\u001b[49m\u001b[43mline\u001b[49m\u001b[43m)\u001b[49m\n\u001b[1;32m   1669\u001b[0m \u001b[38;5;28mself\u001b[39m\u001b[38;5;241m.\u001b[39mautoscale_view(scalex\u001b[38;5;241m=\u001b[39mscalex, scaley\u001b[38;5;241m=\u001b[39mscaley)\n\u001b[1;32m   1670\u001b[0m \u001b[38;5;28;01mreturn\u001b[39;00m lines\n",
      "File \u001b[0;32m/opt/python/3.10.5/lib/python3.10/site-packages/matplotlib/axes/_base.py:1902\u001b[0m, in \u001b[0;36m_AxesBase.add_line\u001b[0;34m(self, line)\u001b[0m\n\u001b[1;32m   1899\u001b[0m \u001b[38;5;28;01mif\u001b[39;00m line\u001b[38;5;241m.\u001b[39mget_clip_path() \u001b[38;5;129;01mis\u001b[39;00m \u001b[38;5;28;01mNone\u001b[39;00m:\n\u001b[1;32m   1900\u001b[0m     line\u001b[38;5;241m.\u001b[39mset_clip_path(\u001b[38;5;28mself\u001b[39m\u001b[38;5;241m.\u001b[39mpatch)\n\u001b[0;32m-> 1902\u001b[0m \u001b[38;5;28;43mself\u001b[39;49m\u001b[38;5;241;43m.\u001b[39;49m\u001b[43m_update_line_limits\u001b[49m\u001b[43m(\u001b[49m\u001b[43mline\u001b[49m\u001b[43m)\u001b[49m\n\u001b[1;32m   1903\u001b[0m \u001b[38;5;28;01mif\u001b[39;00m \u001b[38;5;129;01mnot\u001b[39;00m line\u001b[38;5;241m.\u001b[39mget_label():\n\u001b[1;32m   1904\u001b[0m     line\u001b[38;5;241m.\u001b[39mset_label(\u001b[38;5;124m'\u001b[39m\u001b[38;5;124m_line\u001b[39m\u001b[38;5;132;01m%d\u001b[39;00m\u001b[38;5;124m'\u001b[39m \u001b[38;5;241m%\u001b[39m \u001b[38;5;28mlen\u001b[39m(\u001b[38;5;28mself\u001b[39m\u001b[38;5;241m.\u001b[39mlines))\n",
      "File \u001b[0;32m/opt/python/3.10.5/lib/python3.10/site-packages/matplotlib/axes/_base.py:1924\u001b[0m, in \u001b[0;36m_AxesBase._update_line_limits\u001b[0;34m(self, line)\u001b[0m\n\u001b[1;32m   1920\u001b[0m \u001b[38;5;28;01mdef\u001b[39;00m \u001b[38;5;21m_update_line_limits\u001b[39m(\u001b[38;5;28mself\u001b[39m, line):\n\u001b[1;32m   1921\u001b[0m     \u001b[38;5;124;03m\"\"\"\u001b[39;00m\n\u001b[1;32m   1922\u001b[0m \u001b[38;5;124;03m    Figures out the data limit of the given line, updating self.dataLim.\u001b[39;00m\n\u001b[1;32m   1923\u001b[0m \u001b[38;5;124;03m    \"\"\"\u001b[39;00m\n\u001b[0;32m-> 1924\u001b[0m     path \u001b[38;5;241m=\u001b[39m \u001b[43mline\u001b[49m\u001b[38;5;241;43m.\u001b[39;49m\u001b[43mget_path\u001b[49m\u001b[43m(\u001b[49m\u001b[43m)\u001b[49m\n\u001b[1;32m   1925\u001b[0m     \u001b[38;5;28;01mif\u001b[39;00m path\u001b[38;5;241m.\u001b[39mvertices\u001b[38;5;241m.\u001b[39msize \u001b[38;5;241m==\u001b[39m \u001b[38;5;241m0\u001b[39m:\n\u001b[1;32m   1926\u001b[0m         \u001b[38;5;28;01mreturn\u001b[39;00m\n",
      "File \u001b[0;32m/opt/python/3.10.5/lib/python3.10/site-packages/matplotlib/lines.py:1027\u001b[0m, in \u001b[0;36mLine2D.get_path\u001b[0;34m(self)\u001b[0m\n\u001b[1;32m   1022\u001b[0m \u001b[38;5;124;03m\"\"\"\u001b[39;00m\n\u001b[1;32m   1023\u001b[0m \u001b[38;5;124;03mReturn the :class:`~matplotlib.path.Path` object associated\u001b[39;00m\n\u001b[1;32m   1024\u001b[0m \u001b[38;5;124;03mwith this line.\u001b[39;00m\n\u001b[1;32m   1025\u001b[0m \u001b[38;5;124;03m\"\"\"\u001b[39;00m\n\u001b[1;32m   1026\u001b[0m \u001b[38;5;28;01mif\u001b[39;00m \u001b[38;5;28mself\u001b[39m\u001b[38;5;241m.\u001b[39m_invalidy \u001b[38;5;129;01mor\u001b[39;00m \u001b[38;5;28mself\u001b[39m\u001b[38;5;241m.\u001b[39m_invalidx:\n\u001b[0;32m-> 1027\u001b[0m     \u001b[38;5;28;43mself\u001b[39;49m\u001b[38;5;241;43m.\u001b[39;49m\u001b[43mrecache\u001b[49m\u001b[43m(\u001b[49m\u001b[43m)\u001b[49m\n\u001b[1;32m   1028\u001b[0m \u001b[38;5;28;01mreturn\u001b[39;00m \u001b[38;5;28mself\u001b[39m\u001b[38;5;241m.\u001b[39m_path\n",
      "File \u001b[0;32m/opt/python/3.10.5/lib/python3.10/site-packages/matplotlib/lines.py:675\u001b[0m, in \u001b[0;36mLine2D.recache\u001b[0;34m(self, always)\u001b[0m\n\u001b[1;32m    673\u001b[0m \u001b[38;5;28;01mif\u001b[39;00m always \u001b[38;5;129;01mor\u001b[39;00m \u001b[38;5;28mself\u001b[39m\u001b[38;5;241m.\u001b[39m_invalidy:\n\u001b[1;32m    674\u001b[0m     yconv \u001b[38;5;241m=\u001b[39m \u001b[38;5;28mself\u001b[39m\u001b[38;5;241m.\u001b[39mconvert_yunits(\u001b[38;5;28mself\u001b[39m\u001b[38;5;241m.\u001b[39m_yorig)\n\u001b[0;32m--> 675\u001b[0m     y \u001b[38;5;241m=\u001b[39m \u001b[43m_to_unmasked_float_array\u001b[49m\u001b[43m(\u001b[49m\u001b[43myconv\u001b[49m\u001b[43m)\u001b[49m\u001b[38;5;241m.\u001b[39mravel()\n\u001b[1;32m    676\u001b[0m \u001b[38;5;28;01melse\u001b[39;00m:\n\u001b[1;32m    677\u001b[0m     y \u001b[38;5;241m=\u001b[39m \u001b[38;5;28mself\u001b[39m\u001b[38;5;241m.\u001b[39m_y\n",
      "File \u001b[0;32m/opt/python/3.10.5/lib/python3.10/site-packages/matplotlib/cbook/__init__.py:1390\u001b[0m, in \u001b[0;36m_to_unmasked_float_array\u001b[0;34m(x)\u001b[0m\n\u001b[1;32m   1388\u001b[0m     \u001b[38;5;28;01mreturn\u001b[39;00m np\u001b[38;5;241m.\u001b[39mma\u001b[38;5;241m.\u001b[39masarray(x, \u001b[38;5;28mfloat\u001b[39m)\u001b[38;5;241m.\u001b[39mfilled(np\u001b[38;5;241m.\u001b[39mnan)\n\u001b[1;32m   1389\u001b[0m \u001b[38;5;28;01melse\u001b[39;00m:\n\u001b[0;32m-> 1390\u001b[0m     \u001b[38;5;28;01mreturn\u001b[39;00m \u001b[43mnp\u001b[49m\u001b[38;5;241;43m.\u001b[39;49m\u001b[43masarray\u001b[49m\u001b[43m(\u001b[49m\u001b[43mx\u001b[49m\u001b[43m,\u001b[49m\u001b[43m \u001b[49m\u001b[38;5;28;43mfloat\u001b[39;49m\u001b[43m)\u001b[49m\n",
      "\u001b[0;31mTypeError\u001b[0m: float() argument must be a string or a real number, not 'dict'"
     ]
    },
    {
     "data": {
      "image/png": "[encoded data removed]",
      "text/plain": [
       "<Figure size 640x480 with 1 Axes>"
      ]
     },
     "metadata": {},
     "output_type": "display_data"
    }
   ],
   "source": []
  },
  {
   "cell_type": "code",
   "execution_count": 36,
   "id": "41291e69-f33c-4a84-87f2-f87ed3823c77",
   "metadata": {},
   "outputs": [
    {
     "name": "stdout",
     "output_type": "stream",
     "text": [
      "{'Class': 'NA', 'Pixels': <ee.ee_number.Number object at 0x7f4985f59870>, 'Hectares': <ee.ee_number.Number object at 0x7f4985f5a830>, 'Percentage': <ee.ee_number.Number object at 0x7f4985f5b1f0>}\n",
      "1\n",
      "{'Class': 'High Severity', 'Pixels': <ee.ee_number.Number object at 0x7f4985f5b430>, 'Hectares': <ee.ee_number.Number object at 0x7f4985f5a6e0>, 'Percentage': <ee.ee_number.Number object at 0x7f4985f5b130>}\n",
      "2\n",
      "{'Class': 'Moderate-high Severity', 'Pixels': <ee.ee_number.Number object at 0x7f4986033c70>, 'Hectares': <ee.ee_number.Number object at 0x7f49860331c0>, 'Percentage': <ee.ee_number.Number object at 0x7f4986033fd0>}\n",
      "3\n",
      "{'Class': 'Moderate-low Severity', 'Pixels': <ee.ee_number.Number object at 0x7f4985fa71f0>, 'Hectares': <ee.ee_number.Number object at 0x7f4985fa6e30>, 'Percentage': <ee.ee_number.Number object at 0x7f4985fa7910>}\n",
      "4\n",
      "{'Class': 'Low Severity', 'Pixels': <ee.ee_number.Number object at 0x7f4985fa6b30>, 'Hectares': <ee.ee_number.Number object at 0x7f4985fa6830>, 'Percentage': <ee.ee_number.Number object at 0x7f4985fa5420>}\n",
      "5\n",
      "{'Class': 'Unburned', 'Pixels': <ee.ee_number.Number object at 0x7f4985fa6500>, 'Hectares': <ee.ee_number.Number object at 0x7f4985fa72b0>, 'Percentage': <ee.ee_number.Number object at 0x7f4985fa7520>}\n",
      "6\n",
      "{'Class': 'Enhanced Regrowth, Low', 'Pixels': <ee.ee_number.Number object at 0x7f4985e654e0>, 'Hectares': <ee.ee_number.Number object at 0x7f4985e655d0>, 'Percentage': <ee.ee_number.Number object at 0x7f4985e643d0>}\n",
      "7\n",
      "{'Class': 'Enhanced Regrowth, High', 'Pixels': <ee.ee_number.Number object at 0x7f4985e64a30>, 'Hectares': <ee.ee_number.Number object at 0x7f4985e64d60>, 'Percentage': <ee.ee_number.Number object at 0x7f4985e651b0>}\n",
      "8\n",
      "{'Class': 'NA', 'Pixels': <ee.ee_number.Number object at 0x7f4985e656c0>, 'Hectares': <ee.ee_number.Number object at 0x7f4985e65270>, 'Percentage': <ee.ee_number.Number object at 0x7f4985e65c60>}\n",
      "9\n",
      "{'Class': 'High Severity', 'Pixels': <ee.ee_number.Number object at 0x7f4985e66020>, 'Hectares': <ee.ee_number.Number object at 0x7f4985e661a0>, 'Percentage': <ee.ee_number.Number object at 0x7f4985e663e0>}\n",
      "10\n",
      "{'Class': 'Moderate-high Severity', 'Pixels': <ee.ee_number.Number object at 0x7f4985e667a0>, 'Hectares': <ee.ee_number.Number object at 0x7f4985e66920>, 'Percentage': <ee.ee_number.Number object at 0x7f4985e66b60>}\n",
      "11\n",
      "{'Class': 'Moderate-low Severity', 'Pixels': <ee.ee_number.Number object at 0x7f4985e66f20>, 'Hectares': <ee.ee_number.Number object at 0x7f4985e670a0>, 'Percentage': <ee.ee_number.Number object at 0x7f4985e672e0>}\n",
      "12\n",
      "{'Class': 'Low Severity', 'Pixels': <ee.ee_number.Number object at 0x7f4985e67640>, 'Hectares': <ee.ee_number.Number object at 0x7f4985e677c0>, 'Percentage': <ee.ee_number.Number object at 0x7f4985e67a00>}\n",
      "13\n",
      "{'Class': 'Unburned', 'Pixels': <ee.ee_number.Number object at 0x7f4985e67dc0>, 'Hectares': <ee.ee_number.Number object at 0x7f4985e67f40>, 'Percentage': <ee.ee_number.Number object at 0x7f4985e881c0>}\n",
      "14\n",
      "{'Class': 'Enhanced Regrowth, Low', 'Pixels': <ee.ee_number.Number object at 0x7f4985e88580>, 'Hectares': <ee.ee_number.Number object at 0x7f4985e88700>, 'Percentage': <ee.ee_number.Number object at 0x7f4985e88940>}\n",
      "15\n",
      "{'Class': 'Enhanced Regrowth, High', 'Pixels': <ee.ee_number.Number object at 0x7f4985e88d00>, 'Hectares': <ee.ee_number.Number object at 0x7f4985e88e80>, 'Percentage': <ee.ee_number.Number object at 0x7f4985e890c0>}\n",
      "16\n"
     ]
    }
   ],
   "source": [
    "j = 0\n",
    "for i in arealist:\n",
    "    print(i)\n",
    "    j+=1\n",
    "    print(j)"
   ]
  },
  {
   "cell_type": "code",
   "execution_count": 37,
   "id": "2d0515d2-cf1a-4791-8db6-28579e687c06",
   "metadata": {
    "tags": []
   },
   "outputs": [
    {
     "name": "stdout",
     "output_type": "stream",
     "text": [
      "Burned Area by Severity Class [{'Class': 'NA', 'Pixels': <ee.ee_number.Number object at 0x7f4985f59870>, 'Hectares': <ee.ee_number.Number object at 0x7f4985f5a830>, 'Percentage': <ee.ee_number.Number object at 0x7f4985f5b1f0>}, {'Class': 'High Severity', 'Pixels': <ee.ee_number.Number object at 0x7f4985f5b430>, 'Hectares': <ee.ee_number.Number object at 0x7f4985f5a6e0>, 'Percentage': <ee.ee_number.Number object at 0x7f4985f5b130>}, {'Class': 'Moderate-high Severity', 'Pixels': <ee.ee_number.Number object at 0x7f4986033c70>, 'Hectares': <ee.ee_number.Number object at 0x7f49860331c0>, 'Percentage': <ee.ee_number.Number object at 0x7f4986033fd0>}, {'Class': 'Moderate-low Severity', 'Pixels': <ee.ee_number.Number object at 0x7f4985fa71f0>, 'Hectares': <ee.ee_number.Number object at 0x7f4985fa6e30>, 'Percentage': <ee.ee_number.Number object at 0x7f4985fa7910>}, {'Class': 'Low Severity', 'Pixels': <ee.ee_number.Number object at 0x7f4985fa6b30>, 'Hectares': <ee.ee_number.Number object at 0x7f4985fa6830>, 'Percentage': <ee.ee_number.Number object at 0x7f4985fa5420>}, {'Class': 'Unburned', 'Pixels': <ee.ee_number.Number object at 0x7f4985fa6500>, 'Hectares': <ee.ee_number.Number object at 0x7f4985fa72b0>, 'Percentage': <ee.ee_number.Number object at 0x7f4985fa7520>}, {'Class': 'Enhanced Regrowth, Low', 'Pixels': <ee.ee_number.Number object at 0x7f4985e654e0>, 'Hectares': <ee.ee_number.Number object at 0x7f4985e655d0>, 'Percentage': <ee.ee_number.Number object at 0x7f4985e643d0>}, {'Class': 'Enhanced Regrowth, High', 'Pixels': <ee.ee_number.Number object at 0x7f4985e64a30>, 'Hectares': <ee.ee_number.Number object at 0x7f4985e64d60>, 'Percentage': <ee.ee_number.Number object at 0x7f4985e651b0>}, {'Class': 'NA', 'Pixels': <ee.ee_number.Number object at 0x7f4985e656c0>, 'Hectares': <ee.ee_number.Number object at 0x7f4985e65270>, 'Percentage': <ee.ee_number.Number object at 0x7f4985e65c60>}, {'Class': 'High Severity', 'Pixels': <ee.ee_number.Number object at 0x7f4985e66020>, 'Hectares': <ee.ee_number.Number object at 0x7f4985e661a0>, 'Percentage': <ee.ee_number.Number object at 0x7f4985e663e0>}, {'Class': 'Moderate-high Severity', 'Pixels': <ee.ee_number.Number object at 0x7f4985e667a0>, 'Hectares': <ee.ee_number.Number object at 0x7f4985e66920>, 'Percentage': <ee.ee_number.Number object at 0x7f4985e66b60>}, {'Class': 'Moderate-low Severity', 'Pixels': <ee.ee_number.Number object at 0x7f4985e66f20>, 'Hectares': <ee.ee_number.Number object at 0x7f4985e670a0>, 'Percentage': <ee.ee_number.Number object at 0x7f4985e672e0>}, {'Class': 'Low Severity', 'Pixels': <ee.ee_number.Number object at 0x7f4985e67640>, 'Hectares': <ee.ee_number.Number object at 0x7f4985e677c0>, 'Percentage': <ee.ee_number.Number object at 0x7f4985e67a00>}, {'Class': 'Unburned', 'Pixels': <ee.ee_number.Number object at 0x7f4985e67dc0>, 'Hectares': <ee.ee_number.Number object at 0x7f4985e67f40>, 'Percentage': <ee.ee_number.Number object at 0x7f4985e881c0>}, {'Class': 'Enhanced Regrowth, Low', 'Pixels': <ee.ee_number.Number object at 0x7f4985e88580>, 'Hectares': <ee.ee_number.Number object at 0x7f4985e88700>, 'Percentage': <ee.ee_number.Number object at 0x7f4985e88940>}, {'Class': 'Enhanced Regrowth, High', 'Pixels': <ee.ee_number.Number object at 0x7f4985e88d00>, 'Hectares': <ee.ee_number.Number object at 0x7f4985e88e80>, 'Percentage': <ee.ee_number.Number object at 0x7f4985e890c0>}]\n"
     ]
    }
   ],
   "source": [
    "print('Burned Area by Severity Class', arealist);"
   ]
  },
  {
   "cell_type": "code",
   "execution_count": null,
   "id": "87b7a4aa-36b9-46f3-aa9e-32eadefe098d",
   "metadata": {},
   "outputs": [],
   "source": []
  },
  {
   "cell_type": "markdown",
   "id": "2509b297-1ef1-4da2-b311-5a0dc9543622",
   "metadata": {},
   "source": [
    "### Discussion\n",
    "\n",
    "Comparing the polygon file with our Sentinel calculations, the number of pixels classified High Severity do not match the number of dNBR values that meet the High Severity threshold in the MTBS polygon. "
   ]
  },
  {
   "cell_type": "markdown",
   "id": "bb52f328-0a1f-4beb-82cd-a06c5f574ed7",
   "metadata": {},
   "source": [
    "### Future Analyses\n",
    "\n",
    "With more time, the data extracted could be analyzed with other characteristics of the environment, such as slope, aspect, wind direction, and humidity. These analyses would better inform wildfire researchers the nature of fires, especially as the duration of this fire will increasingly resemble fires in the future."
   ]
  },
  {
   "cell_type": "markdown",
   "id": "68fd9151-b0d9-4dda-aa0e-d918b5cd0ea9",
   "metadata": {},
   "source": [
    "<a id='references'></a> \n",
    "### References\n",
    "\n",
    "- Sentinel data GEE page: https://developers.google.com/earth-engine/datasets/catalog/COPERNICUS_S2 \n",
    "- USFS MTBS Shapefile GEE page: https://developers.google.com/earth-engine/datasets/catalog/USFS_GTAC_MTBS_burned_area_boundaries_v1#description \n",
    "- MTBS Project Page: https://www.mtbs.gov/ "
   ]
  }
 ],
 "metadata": {
  "kernelspec": {
   "display_name": "Python 3 (ipykernel)",
   "language": "python",
   "name": "python3"
  },
  "language_info": {
   "codemirror_mode": {
    "name": "ipython",
    "version": 3
   },
   "file_extension": ".py",
   "mimetype": "text/x-python",
   "name": "python",
   "nbconvert_exporter": "python",
   "pygments_lexer": "ipython3",
   "version": "3.10.5"
  }
 },
 "nbformat": 4,
 "nbformat_minor": 5
}
