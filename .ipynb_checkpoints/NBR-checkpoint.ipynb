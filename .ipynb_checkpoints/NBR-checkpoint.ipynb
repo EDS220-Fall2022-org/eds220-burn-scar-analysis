{
 "cells": [
  {
   "cell_type": "code",
   "execution_count": 356,
   "id": "5a45b77e-6fa2-4a63-b164-2e91499b62a5",
   "metadata": {},
   "outputs": [],
   "source": [
    "#1) Import all necessary packages\n",
    "import pandas as pd\n",
    "import numpy as np\n",
    "import matplotlib.pyplot as plt\n",
    "import datetime\n",
    "import ee\n",
    "import geemap"
   ]
  },
  {
   "cell_type": "code",
   "execution_count": 483,
   "id": "aa36bf6e-b4f1-4ef5-96d4-2cdae46d2712",
   "metadata": {},
   "outputs": [],
   "source": [
    "#ee.Authenticate()\n",
    "ee.Initialize()"
   ]
  },
  {
   "cell_type": "code",
   "execution_count": 862,
   "id": "e421f06c-5890-48e3-91aa-a4c509522ee9",
   "metadata": {},
   "outputs": [
    {
     "data": {
      "application/vnd.jupyter.widget-view+json": {
       "model_id": "34c13d7f0f2346ffb6159cae2e994dd8",
       "version_major": 2,
       "version_minor": 0
      },
      "text/plain": [
       "Map(center=[39.5, -122], controls=(WidgetControl(options=['position', 'transparent_bg'], widget=HBox(children=…"
      ]
     },
     "execution_count": 862,
     "metadata": {},
     "output_type": "execute_result"
    }
   ],
   "source": [
    "Map = geemap.Map(center=[39.5, -122], zoom=7.2)\n",
    "Map"
   ]
  },
  {
   "cell_type": "code",
   "execution_count": 863,
   "id": "86906986-47b9-4d6f-9b4a-00515307e193",
   "metadata": {},
   "outputs": [],
   "source": [
    "counties = ee.FeatureCollection(\"TIGER/2018/Counties\")\n",
    "Map.addLayer(counties, {}, 'US Counties')"
   ]
  },
  {
   "cell_type": "code",
   "execution_count": 864,
   "id": "606bc53b-14be-4701-b694-90ce5f44b93a",
   "metadata": {
    "tags": []
   },
   "outputs": [
    {
     "data": {
      "text/plain": [
       "[<ee.feature.Feature at 0x7fed8d9c78e0>]"
      ]
     },
     "execution_count": 864,
     "metadata": {},
     "output_type": "execute_result"
    }
   ],
   "source": [
    "Map.draw_features"
   ]
  },
  {
   "cell_type": "code",
   "execution_count": 865,
   "id": "b10eabb3-52ee-485e-bfd4-d5dacb306f66",
   "metadata": {
    "tags": []
   },
   "outputs": [],
   "source": [
    "roi = ee.FeatureCollection(Map.draw_features)\n",
    "selected_counties = counties.filterBounds(roi)\n",
    "Map.addLayer(selected_counties, {}, \"Selected Counties\")\n",
    "Map.centerObject(selected_counties, zoom = 8);"
   ]
  },
  {
   "cell_type": "code",
   "execution_count": 866,
   "id": "338b1991-414f-4302-bf00-fbd03ce7303c",
   "metadata": {
    "tags": []
   },
   "outputs": [],
   "source": [
    "Map.remove_last_drawn()\n",
    "Map.remove_ee_layer('US Counties')"
   ]
  },
  {
   "cell_type": "code",
   "execution_count": 867,
   "id": "57014a57-d507-4e6d-87c8-07361c934ad5",
   "metadata": {},
   "outputs": [],
   "source": [
    "#c_polygon = selected_counties.geometry().geometries().filter(ee.Filter.hasType('item','Polygon')); "
   ]
  },
  {
   "cell_type": "code",
   "execution_count": 868,
   "id": "8baa7419-167c-4e18-9d01-e97fe9686b08",
   "metadata": {},
   "outputs": [],
   "source": [
    "#geometry = ee.Geometry.MultiPolygon(c_polygon)                     \n",
    "#geometry = ee.FeatureCollection(geometry)                                  \n"
   ]
  },
  {
   "cell_type": "code",
   "execution_count": 869,
   "id": "539cfdf6-a1dc-41bc-a40e-5f06f7adcb33",
   "metadata": {},
   "outputs": [],
   "source": [
    "#geemap.ee_to_shp(geometry, filename='../downloads/selected_counties.shp')"
   ]
  },
  {
   "cell_type": "code",
   "execution_count": 870,
   "id": "3cc1205a-7b96-47b1-b91f-39e865c8b7c8",
   "metadata": {},
   "outputs": [],
   "source": [
    "# Start of fire August 16\n",
    "#End of fire November 12\n",
    "prefire_start = '2020-07-15';   \n",
    "prefire_end = '2020-08-15';\n",
    "\n",
    "\n",
    "postfire_start = '2020-11-13';\n",
    "postfire_end = '2020-12-13';\n",
    "imagery = ee.ImageCollection('LANDSAT/LC08/C01/T1_SR')\n",
    "\n",
    "prefireImCol = ee.ImageCollection(imagery.filterDate(prefire_start, prefire_end).filterBounds(selected_counties));\n",
    "postfireImCol = ee.ImageCollection(imagery.filterDate(postfire_start, postfire_end).filterBounds(selected_counties));"
   ]
  },
  {
   "cell_type": "code",
   "execution_count": 871,
   "id": "859dd7f4-d5f6-47c3-920b-50f62b933966",
   "metadata": {},
   "outputs": [],
   "source": [
    "def maskL8sr(image):\n",
    "  #Bits 3 and 5 are cloud shadow and cloud, respectively.\n",
    "    cloudShadowBitMask = 1 << 3;\n",
    "    cloudsBitMask = 1 << 5;\n",
    "    snowBitMask = 1 << 4;\n",
    " #Get the pixel QA band.\n",
    "    qa = image.select('pixel_qa');\n",
    " #All flags should be set to zero, indicating clear conditions.\n",
    "    mask = qa.bitwiseAnd(cloudShadowBitMask).eq(0).bitwiseAnd(cloudsBitMask).eq(0).bitwiseAnd(snowBitMask).eq(0);\n",
    " #Return the masked image, scaled to TOA reflectance, without the QA bands.\n",
    "    return image.updateMask(mask).select(\"B[0-9]*\").copyProperties(image, [\"system:time_start\"]);\n"
   ]
  },
  {
   "cell_type": "code",
   "execution_count": 872,
   "id": "780ad8cd-2938-4a84-b3ec-739dee0500e2",
   "metadata": {},
   "outputs": [],
   "source": [
    "# Apply platform-specific cloud mask\n",
    "prefire_CM_ImCol = prefireImCol.map(maskL8sr);\n",
    "postfire_CM_ImCol = postfireImCol.map(maskL8sr);"
   ]
  },
  {
   "cell_type": "code",
   "execution_count": 873,
   "id": "f1671b2a-b015-4079-8991-529072afa402",
   "metadata": {},
   "outputs": [],
   "source": [
    "pre_mos = prefireImCol.mosaic().clip(selected_counties);\n",
    "post_mos = postfireImCol.mosaic().clip(selected_counties);\n",
    "\n",
    "pre_cm_mos = prefire_CM_ImCol.mosaic().clip(selected_counties);\n",
    "post_cm_mos = postfire_CM_ImCol.mosaic().clip(selected_counties);"
   ]
  },
  {
   "cell_type": "code",
   "execution_count": 874,
   "id": "932e52e2-5ef4-4819-935b-01c5bc002463",
   "metadata": {},
   "outputs": [],
   "source": [
    "preNBR = pre_cm_mos.normalizedDifference(['B5', 'B7']);\n",
    "postNBR = post_cm_mos.normalizedDifference(['B5', 'B7']);"
   ]
  },
  {
   "cell_type": "code",
   "execution_count": 875,
   "id": "eee4300c-7dae-4687-bd00-4d1e8db9650f",
   "metadata": {},
   "outputs": [],
   "source": [
    "dNBR_unscaled = preNBR.subtract(postNBR);\n",
    "\n",
    "#Scale product to USGS standards\n",
    "dNBR = dNBR_unscaled.multiply(1000);"
   ]
  },
  {
   "cell_type": "code",
   "execution_count": 876,
   "id": "9aec92a8-a3f7-44ff-9008-53c9ea447a39",
   "metadata": {},
   "outputs": [],
   "source": [
    "#visualization parameters for true color images\n",
    "vis = {'bands': ['B4', 'B3', 'B2'], 'min': 0, 'max': 4000, 'gamma': 1.5};\n",
    "# Add the true color images to the map.\n",
    "Map.addLayer(pre_mos, vis,'Pre-fire image');\n",
    "Map.addLayer(post_mos, vis,'Post-fire image');"
   ]
  },
  {
   "cell_type": "code",
   "execution_count": 877,
   "id": "4cda5a5a-e65c-4e0a-b33c-a5305e0c9942",
   "metadata": {},
   "outputs": [],
   "source": [
    "#Add the true color images to the map.\n",
    "Map.addLayer(pre_cm_mos, vis,'Pre-fire True Color Image - Clouds masked');\n",
    "Map.addLayer(post_cm_mos, vis,'Post-fire True Color Image - Clouds masked');"
   ]
  },
  {
   "cell_type": "code",
   "execution_count": 878,
   "id": "7b1375b2-310c-498b-85d4-6d49b34d6f65",
   "metadata": {},
   "outputs": [],
   "source": [
    "#Burn Ratio Product - Greyscale\n",
    "grey = ['white', 'black'];\n",
    "#display pre- and post-fire NBR seperately\n",
    "Map.addLayer(preNBR, {'min': -1, 'max': 1, 'palette': grey}, 'Prefire Normalized Burn Ratio');\n",
    "Map.addLayer(postNBR, {'min': -1, 'max': 1, 'palette': grey}, 'Postfire Normalized Burn Ratio');\n",
    "\n",
    "Map.addLayer(dNBR, {'min': -1000, 'max': 1000, 'palette': grey}, 'dNBR greyscale');\n"
   ]
  },
  {
   "cell_type": "code",
   "execution_count": 879,
   "id": "17179d60-c01a-4ee0-b7a5-10e2970db23f",
   "metadata": {},
   "outputs": [],
   "source": [
    "#Define an SLD style of discrete intervals to apply to the image.\n",
    "sld_intervals = '<RasterSymbolizer>' + '<ColorMap type=\"intervals\" extended=\"false\" >' + '<ColorMapEntry color=\"#ffffff\" quantity=\"-500\" label=\"-500\"/>' + '<ColorMapEntry color=\"#7a8737\" quantity=\"-250\" label=\"-250\" />' + '<ColorMapEntry color=\"#acbe4d\" quantity=\"-100\" label=\"-100\" />' + '<ColorMapEntry color=\"#0ae042\" quantity=\"100\" label=\"100\" />' + '<ColorMapEntry color=\"#fff70b\" quantity=\"270\" label=\"270\" />' + '<ColorMapEntry color=\"#ffaf38\" quantity=\"440\" label=\"440\" />' + '<ColorMapEntry color=\"#ff641b\" quantity=\"660\" label=\"660\" />' + '<ColorMapEntry color=\"#a41fd6\" quantity=\"2000\" label=\"2000\" />' + '</ColorMap>' + '</RasterSymbolizer>';"
   ]
  },
  {
   "cell_type": "code",
   "execution_count": 880,
   "id": "36a76ab3-72ab-4d93-8a57-b0a8fcb0095b",
   "metadata": {},
   "outputs": [],
   "source": [
    "Map.addLayer(dNBR.sldStyle(sld_intervals), {}, 'dNBR classified');"
   ]
  },
  {
   "cell_type": "code",
   "execution_count": 881,
   "id": "4779b0f3-c377-47b7-af20-f5adfbcf1a6a",
   "metadata": {
    "tags": []
   },
   "outputs": [],
   "source": [
    "thresholds = ee.Image([-1000, -251, -101, 99, 269, 439, 659, 2000]);\n",
    "classified = dNBR.lt(thresholds).reduce('sum').toInt();"
   ]
  },
  {
   "cell_type": "code",
   "execution_count": 883,
   "id": "9c64d81f-cf05-4c89-b687-5027d6f4932c",
   "metadata": {},
   "outputs": [
    {
     "data": {
      "text/plain": [
       "{'type': 'Image',\n",
       " 'bands': [{'id': 'sum',\n",
       "   'data_type': {'type': 'PixelType',\n",
       "    'precision': 'int',\n",
       "    'min': -2147483648,\n",
       "    'max': 2147483647},\n",
       "   'crs': 'EPSG:4326',\n",
       "   'crs_transform': [1, 0, 0, 0, 1, 0]}]}"
      ]
     },
     "execution_count": 883,
     "metadata": {},
     "output_type": "execute_result"
    }
   ],
   "source": [
    "classified.getInfo()"
   ]
  },
  {
   "cell_type": "code",
   "execution_count": 884,
   "id": "9d58e9c5-47c9-40d0-b976-f7d9f44eb0c5",
   "metadata": {
    "tags": []
   },
   "outputs": [],
   "source": [
    "#count number of pixels in entire layer\n",
    "allpix =  classified.updateMask(classified); #mask the entire layer"
   ]
  },
  {
   "cell_type": "code",
   "execution_count": 885,
   "id": "f4754a83-34cb-4623-a913-a71c0cbc6f19",
   "metadata": {},
   "outputs": [
    {
     "data": {
      "text/plain": [
       "{'type': 'Image',\n",
       " 'bands': [{'id': 'sum',\n",
       "   'data_type': {'type': 'PixelType',\n",
       "    'precision': 'int',\n",
       "    'min': -2147483648,\n",
       "    'max': 2147483647},\n",
       "   'crs': 'EPSG:4326',\n",
       "   'crs_transform': [1, 0, 0, 0, 1, 0]}]}"
      ]
     },
     "execution_count": 885,
     "metadata": {},
     "output_type": "execute_result"
    }
   ],
   "source": [
    "allpix.getInfo()"
   ]
  },
  {
   "cell_type": "code",
   "execution_count": 893,
   "id": "60ffc0a9-eb9f-482f-b883-1627f61ca5ec",
   "metadata": {},
   "outputs": [
    {
     "name": "stdout",
     "output_type": "stream",
     "text": [
      "ee.Reducer({\n",
      "  \"functionInvocationValue\": {\n",
      "    \"functionName\": \"Reducer.count\",\n",
      "    \"arguments\": {}\n",
      "  }\n",
      "})\n"
     ]
    }
   ],
   "source": [
    "#Map.set_plot_options(add_marker_cluster=True, marker=None)\n",
    "#Map.roi_reducer = ee.Reducer.count()\n",
    "\n",
    "#print(Map.roi_reducer)"
   ]
  },
  {
   "cell_type": "code",
   "execution_count": 708,
   "id": "7697af5e-9ed6-4874-876d-316c43333804",
   "metadata": {
    "tags": []
   },
   "outputs": [],
   "source": [
    "pixstats = allpix.reduceRegion({\n",
    "    'reducer': ee.Reducer.count(),               # count pixels in a single class\n",
    "    'geometry': sel_counties,\n",
    "    'scale': 30});"
   ]
  },
  {
   "cell_type": "code",
   "execution_count": 708,
   "id": "a075cf70-790a-49a7-9c9e-37794df828cf",
   "metadata": {
    "tags": []
   },
   "outputs": [],
   "source": [
    "allpixels = ee.Number(pixstats.get('sum')); # extract pixel count as a number"
   ]
  },
  {
   "cell_type": "code",
   "execution_count": 888,
   "id": "8f8ae455-a41b-45c4-ad74-bd24935d8dea",
   "metadata": {
    "tags": []
   },
   "outputs": [],
   "source": [
    "#create an empty list to store area values in\n",
    "arealist = [];"
   ]
  },
  {
   "cell_type": "code",
   "execution_count": null,
   "id": "e555777a-e95a-4cd4-babe-8fb8369e7d5c",
   "metadata": {
    "tags": []
   },
   "outputs": [],
   "source": [
    "# create a function to derive extent of one burn severity class\n",
    "#arguments are class number and class name\n",
    "def areacount(cnr, name):\n",
    "    singleMask =  classified.updateMask(classified.eq(cnr)); # mask a single class // count pixels in a single class\n",
    "    stats = singleMask.reduceRegion({'reducer': ee.Reducer.count(), 'geometry': area,'scale': 30});\n",
    "    pix =  ee.Number(stats.get('sum'));\n",
    "    hect = pix.multiply(900).divide(10000);               #Landsat pixel = 30m x 30m --> 900 sqm\n",
    "    perc = pix.divide(allpixels).multiply(10000).round().divide(100);   # get area percent by class and round to 2 decimals\n",
    "    arealist.push({Class: name, Pixels: pix, Hectares: hect, Percentage: perc});\n",
    "\n",
    "# severity classes in different order\n",
    "names2 = ['NA', 'High Severity', 'Moderate-high Severity',\n",
    "'Moderate-low Severity', 'Low Severity','Unburned', 'Enhanced Regrowth, Low', 'Enhanced Regrowth, High'];"
   ]
  },
  {
   "cell_type": "code",
   "execution_count": 903,
   "id": "315ef52e-3753-487b-8089-83dd9b42f336",
   "metadata": {},
   "outputs": [
    {
     "ename": "SyntaxError",
     "evalue": "invalid syntax (2469732436.py, line 3)",
     "output_type": "error",
     "traceback": [
      "\u001b[0;36m  Input \u001b[0;32mIn [903]\u001b[0;36m\u001b[0m\n\u001b[0;31m    for i = 0, i < 8, i++:\u001b[0m\n\u001b[0m          ^\u001b[0m\n\u001b[0;31mSyntaxError\u001b[0m\u001b[0;31m:\u001b[0m invalid syntax\n"
     ]
    }
   ],
   "source": [
    "#execute function for each class\n",
    "\n",
    "for i = 0, i < 8, i++:\n",
    "    {areacount(i, names2[i]);}\n",
    "\n",
    "print('Burned Area by Severity Class', arealist, '--> click list objects for individual classes');"
   ]
  },
  {
   "cell_type": "code",
   "execution_count": null,
   "id": "aebb24df-560e-49f1-aa6c-41e98b1324a2",
   "metadata": {},
   "outputs": [],
   "source": []
  }
 ],
 "metadata": {
  "kernelspec": {
   "display_name": "Python 3 (ipykernel)",
   "language": "python",
   "name": "python3"
  },
  "language_info": {
   "codemirror_mode": {
    "name": "ipython",
    "version": 3
   },
   "file_extension": ".py",
   "mimetype": "text/x-python",
   "name": "python",
   "nbconvert_exporter": "python",
   "pygments_lexer": "ipython3",
   "version": "3.10.5"
  }
 },
 "nbformat": 4,
 "nbformat_minor": 5
}
